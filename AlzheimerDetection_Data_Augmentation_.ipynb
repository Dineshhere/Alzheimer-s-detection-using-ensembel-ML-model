{
  "nbformat": 4,
  "nbformat_minor": 0,
  "metadata": {
    "colab": {
      "provenance": []
    },
    "kernelspec": {
      "name": "python3",
      "display_name": "Python 3"
    },
    "language_info": {
      "name": "python"
    },
    "gpuClass": "standard"
  },
  "cells": [
    {
      "cell_type": "code",
      "execution_count": null,
      "metadata": {
        "id": "QCtcBO28w56X"
      },
      "outputs": [],
      "source": [
        "import numpy as np\n",
        "import glob\n",
        "import re\n",
        "import shutil\n",
        "import random\n",
        "import pandas as pd\n",
        "import tensorflow as tf\n",
        "from scipy.interpolate import interp1d\n",
        "import matplotlib.pyplot as plt\n",
        "from sklearn.preprocessing import StandardScaler\n",
        "from sklearn.decomposition import PCA \n",
        "from sklearn.decomposition import KernelPCA"
      ]
    },
    {
      "cell_type": "code",
      "source": [
        "!unzip /content/DataBase.zip"
      ],
      "metadata": {
        "colab": {
          "base_uri": "https://localhost:8080/"
        },
        "id": "QR0IveJ71nQE",
        "outputId": "538ef665-8a80-4e86-e3ac-b85a3f070e0f"
      },
      "execution_count": null,
      "outputs": [
        {
          "output_type": "stream",
          "name": "stdout",
          "text": [
            "Archive:  /content/DataBase.zip\n",
            "   creating: DataBase/SETA/\n",
            "  inflating: DataBase/SETA/healthy_open1.csv  \n",
            "  inflating: DataBase/SETA/healthy_open10.csv  \n",
            "  inflating: DataBase/SETA/healthy_open11.csv  \n",
            "  inflating: DataBase/SETA/healthy_open12.csv  \n",
            "  inflating: DataBase/SETA/healthy_open2.csv  \n",
            "  inflating: DataBase/SETA/healthy_open3.csv  \n",
            "  inflating: DataBase/SETA/healthy_open4.csv  \n",
            "  inflating: DataBase/SETA/healthy_open5.csv  \n",
            "  inflating: DataBase/SETA/healthy_open6.csv  \n",
            "  inflating: DataBase/SETA/healthy_open7.csv  \n",
            "  inflating: DataBase/SETA/healthy_open8.csv  \n",
            "  inflating: DataBase/SETA/healthy_open9.csv  \n",
            "   creating: DataBase/SETB/\n",
            "  inflating: DataBase/SETB/healthy_closed1.csv  \n",
            "  inflating: DataBase/SETB/healthy_closed10.csv  \n",
            "  inflating: DataBase/SETB/healthy_closed11.csv  \n",
            "  inflating: DataBase/SETB/healthy_closed12.csv  \n",
            "  inflating: DataBase/SETB/healthy_closed2.csv  \n",
            "  inflating: DataBase/SETB/healthy_closed3.csv  \n",
            "  inflating: DataBase/SETB/healthy_closed4.csv  \n",
            "  inflating: DataBase/SETB/healthy_closed5.csv  \n",
            "  inflating: DataBase/SETB/healthy_closed6.csv  \n",
            "  inflating: DataBase/SETB/healthy_closed7.csv  \n",
            "  inflating: DataBase/SETB/healthy_closed8.csv  \n",
            "  inflating: DataBase/SETB/healthy_closed9.csv  \n",
            "   creating: DataBase/SETC/\n",
            "  inflating: DataBase/SETC/alzeimer_open1.csv  \n",
            "  inflating: DataBase/SETC/alzeimer_open10.csv  \n",
            "  inflating: DataBase/SETC/alzeimer_open11.csv  \n",
            "  inflating: DataBase/SETC/alzeimer_open12.csv  \n",
            "  inflating: DataBase/SETC/alzeimer_open2.csv  \n",
            "  inflating: DataBase/SETC/alzeimer_open3.csv  \n",
            "  inflating: DataBase/SETC/alzeimer_open4.csv  \n",
            "  inflating: DataBase/SETC/alzeimer_open5.csv  \n",
            "  inflating: DataBase/SETC/alzeimer_open6.csv  \n",
            "  inflating: DataBase/SETC/alzeimer_open7.csv  \n",
            "  inflating: DataBase/SETC/alzeimer_open8.csv  \n",
            "  inflating: DataBase/SETC/alzeimer_open9.csv  \n",
            "   creating: DataBase/SETD/\n",
            "  inflating: DataBase/SETD/alzeimer_closed1.csv  \n",
            "  inflating: DataBase/SETD/alzeimer_closed10.csv  \n",
            "  inflating: DataBase/SETD/alzeimer_closed11.csv  \n",
            "  inflating: DataBase/SETD/alzeimer_closed12.csv  \n",
            "  inflating: DataBase/SETD/alzeimer_closed2.csv  \n",
            "  inflating: DataBase/SETD/alzeimer_closed3.csv  \n",
            "  inflating: DataBase/SETD/alzeimer_closed4.csv  \n",
            "  inflating: DataBase/SETD/alzeimer_closed5.csv  \n",
            "  inflating: DataBase/SETD/alzeimer_closed6.csv  \n",
            "  inflating: DataBase/SETD/alzeimer_closed7.csv  \n",
            "  inflating: DataBase/SETD/alzeimer_closed8.csv  \n",
            "  inflating: DataBase/SETD/alzeimer_closed9.csv  \n"
          ]
        }
      ]
    },
    {
      "cell_type": "code",
      "source": [
        "files = glob.glob(\"/content/DataBase/*/*\")"
      ],
      "metadata": {
        "id": "08Na1FnV10i_"
      },
      "execution_count": null,
      "outputs": []
    },
    {
      "cell_type": "code",
      "source": [
        "len(files)"
      ],
      "metadata": {
        "colab": {
          "base_uri": "https://localhost:8080/"
        },
        "id": "_1GVzJyB19bo",
        "outputId": "8a10ab15-6bf0-45cb-b3f4-d70a4b1cc7d8"
      },
      "execution_count": null,
      "outputs": [
        {
          "output_type": "execute_result",
          "data": {
            "text/plain": [
              "48"
            ]
          },
          "metadata": {},
          "execution_count": 5
        }
      ]
    },
    {
      "cell_type": "markdown",
      "source": [
        "Cleaning up the files which has non-int or non-float datatype which will be replaced by the previous timestep or its next time step"
      ],
      "metadata": {
        "id": "vPmk65DF43yS"
      }
    },
    {
      "cell_type": "code",
      "source": [
        "def clean(path):\n",
        "    df = pd.read_csv(path)\n",
        "    for column in df.columns:\n",
        "        if df[column].dtype == 'object':\n",
        "            print(\"Sample : \",path,\" feature : \",column,\" is uncleaned\")\n",
        "            df[column] = pd.to_numeric(df[column], errors='coerce')\n",
        "            df[column] = df[column].fillna(method='ffill')\n",
        "            df[column] = df[column].fillna(method='bfill')\n",
        "    df = df.iloc[:1024,:]\n",
        "    df.to_csv(path, index=False)"
      ],
      "metadata": {
        "id": "wcqKXwNK2Bhp"
      },
      "execution_count": null,
      "outputs": []
    },
    {
      "cell_type": "code",
      "source": [
        "for i in files:\n",
        "    clean(i)"
      ],
      "metadata": {
        "id": "drtoJhwH4Lmp",
        "colab": {
          "base_uri": "https://localhost:8080/"
        },
        "outputId": "ef8218f6-e00a-4870-cf55-0a97546b9f55"
      },
      "execution_count": null,
      "outputs": [
        {
          "output_type": "stream",
          "name": "stdout",
          "text": [
            "Sample :  /content/DataBase/SETC/alzeimer_open8.csv  feature :  0  is uncleaned\n",
            "Sample :  /content/DataBase/SETC/alzeimer_open10.csv  feature :  0  is uncleaned\n",
            "Sample :  /content/DataBase/SETC/alzeimer_open5.csv  feature :  0  is uncleaned\n",
            "Sample :  /content/DataBase/SETC/alzeimer_open6.csv  feature :  0  is uncleaned\n",
            "Sample :  /content/DataBase/SETD/alzeimer_closed12.csv  feature :  18  is uncleaned\n",
            "Sample :  /content/DataBase/SETB/healthy_closed2.csv  feature :  16  is uncleaned\n",
            "Sample :  /content/DataBase/SETB/healthy_closed6.csv  feature :  14  is uncleaned\n",
            "Sample :  /content/DataBase/SETA/healthy_open11.csv  feature :  14  is uncleaned\n",
            "Sample :  /content/DataBase/SETA/healthy_open2.csv  feature :  16  is uncleaned\n"
          ]
        }
      ]
    },
    {
      "cell_type": "code",
      "source": [
        "files = glob.glob(\"/content/DataBase/*/*\")\n",
        "len(files)"
      ],
      "metadata": {
        "colab": {
          "base_uri": "https://localhost:8080/"
        },
        "id": "SfTA_fFi74k6",
        "outputId": "b581727e-603f-4c08-8243-d0052e392128"
      },
      "execution_count": null,
      "outputs": [
        {
          "output_type": "execute_result",
          "data": {
            "text/plain": [
              "48"
            ]
          },
          "metadata": {},
          "execution_count": 8
        }
      ]
    },
    {
      "cell_type": "code",
      "source": [
        "shutil.copytree(\"/content/DataBase\",\"/content/DataBaseOriginal\")"
      ],
      "metadata": {
        "id": "kGJOVw6M_i72"
      },
      "execution_count": null,
      "outputs": []
    },
    {
      "cell_type": "markdown",
      "source": [
        "# Data Augmentation Techniques : \n",
        "  1.) **Shifting and Noising :** Shifting in time series data refers to a\n",
        "transformation of the data where the entire series is moved forward or backward in time by a certain number of periods. This can be useful in analyzing time series data, as it can help to identify patterns or trends that may not be immediately apparent when looking at the original data.Noising adds random noise to the shifted data so that the learning model will learn to ignore noisy information and filter out the relevant info from the data.\n",
        "\n",
        " 2.) **Rolling Mean :** Rolling mean is a technique used to smooth out the data by taking the average of a fixed window of data points. This technique can be useful for reducing noise in the data and identifying trends that are relevant.\n"
      ],
      "metadata": {
        "id": "jqzheMfX5I0C"
      }
    },
    {
      "cell_type": "markdown",
      "source": [
        "1.) Shifting "
      ],
      "metadata": {
        "id": "4mZ3gspN6sX5"
      }
    },
    {
      "cell_type": "code",
      "source": [
        "def positive_shift(path,replace = False,value = 0):\n",
        "    df = pd.read_csv(path)\n",
        "    shift = random.randint(3,15)\n",
        "    df = df.shift(shift)\n",
        "    if replace:\n",
        "       df = df.fillna(df.mean())\n",
        "    df = df.fillna(0)      \n",
        "    deviation = df.std().tolist()\n",
        "    noise = np.random.normal([0]*19,deviation,19)\n",
        "    df += noise/10\n",
        "    return df\n",
        "\n",
        "def negative_shift(path,replace = False,value = 0):\n",
        "    df = pd.read_csv(path)\n",
        "    shift = random.randint(-15,-3)\n",
        "    df = df.shift(shift)\n",
        "    if replace:\n",
        "       df = df.fillna(df.mean())\n",
        "    df = df.fillna(0)   \n",
        "    deviation = df.std().tolist()\n",
        "    noise = np.random.normal([0]*19,deviation,19)\n",
        "    df += noise/10\n",
        "    return df    \n",
        "\n",
        "def shift(path,label,file_no,target_dir):\n",
        "    pn = random.randint(0,1)\n",
        "    if pn == 1:\n",
        "        file_name = label+str(file_no)+\".csv\"\n",
        "        file_name = target_dir+\"/\"+file_name\n",
        "        df = positive_shift(path)\n",
        "        print(path,\" -> \",file_name,\" Positive Shift\")\n",
        "        df.to_csv(file_name,index = False)\n",
        "    else:\n",
        "        file_name = label+str(file_no)+\".csv\"\n",
        "        file_name = target_dir+\"/\"+file_name\n",
        "        df = negative_shift(path)\n",
        "        print(path,\" -> \",file_name,\" Negative Shift\")\n",
        "        df.to_csv(file_name,index = False)    \n",
        "\n",
        "\n",
        "def add_shift_per_sample(path,label):\n",
        "    file_no = 25\n",
        "    all_files = glob.glob(path+\"/*\")\n",
        "    for i in all_files:\n",
        "        shift(i,label,file_no,path)\n",
        "        file_no += 1\n",
        "   "
      ],
      "metadata": {
        "id": "m9Rsfo5BG2AX"
      },
      "execution_count": null,
      "outputs": []
    },
    {
      "cell_type": "code",
      "source": [
        "add_shift_per_sample(\"/content/DataBase/SETA\",'healthy_open')"
      ],
      "metadata": {
        "colab": {
          "base_uri": "https://localhost:8080/"
        },
        "id": "39gEodpRNV-L",
        "outputId": "1033eaf1-ef62-4c40-c4c8-9737abbc06ee"
      },
      "execution_count": null,
      "outputs": [
        {
          "output_type": "stream",
          "name": "stdout",
          "text": [
            "/content/DataBase/SETA/healthy_open12.csv  ->  /content/DataBase/SETA/healthy_open25.csv  Positive Shift\n",
            "/content/DataBase/SETA/healthy_open6.csv  ->  /content/DataBase/SETA/healthy_open26.csv  Negative Shift\n",
            "/content/DataBase/SETA/healthy_open4.csv  ->  /content/DataBase/SETA/healthy_open27.csv  Positive Shift\n",
            "/content/DataBase/SETA/healthy_open7.csv  ->  /content/DataBase/SETA/healthy_open28.csv  Negative Shift\n",
            "/content/DataBase/SETA/healthy_open11.csv  ->  /content/DataBase/SETA/healthy_open29.csv  Negative Shift\n",
            "/content/DataBase/SETA/healthy_open8.csv  ->  /content/DataBase/SETA/healthy_open30.csv  Negative Shift\n",
            "/content/DataBase/SETA/healthy_open2.csv  ->  /content/DataBase/SETA/healthy_open31.csv  Negative Shift\n",
            "/content/DataBase/SETA/healthy_open10.csv  ->  /content/DataBase/SETA/healthy_open32.csv  Negative Shift\n",
            "/content/DataBase/SETA/healthy_open9.csv  ->  /content/DataBase/SETA/healthy_open33.csv  Negative Shift\n",
            "/content/DataBase/SETA/healthy_open1.csv  ->  /content/DataBase/SETA/healthy_open34.csv  Positive Shift\n",
            "/content/DataBase/SETA/healthy_open5.csv  ->  /content/DataBase/SETA/healthy_open35.csv  Positive Shift\n",
            "/content/DataBase/SETA/healthy_open3.csv  ->  /content/DataBase/SETA/healthy_open36.csv  Positive Shift\n"
          ]
        }
      ]
    },
    {
      "cell_type": "code",
      "source": [
        "add_shift_per_sample(\"/content/DataBase/SETB\",'healthy_closed')"
      ],
      "metadata": {
        "colab": {
          "base_uri": "https://localhost:8080/"
        },
        "id": "EBCsD-MVOGXH",
        "outputId": "e33d5d35-47ba-4d07-c6be-b65100eefb09"
      },
      "execution_count": null,
      "outputs": [
        {
          "output_type": "stream",
          "name": "stdout",
          "text": [
            "/content/DataBase/SETB/healthy_closed12.csv  ->  /content/DataBase/SETB/healthy_closed25.csv  Positive Shift\n",
            "/content/DataBase/SETB/healthy_closed2.csv  ->  /content/DataBase/SETB/healthy_closed26.csv  Positive Shift\n",
            "/content/DataBase/SETB/healthy_closed1.csv  ->  /content/DataBase/SETB/healthy_closed27.csv  Positive Shift\n",
            "/content/DataBase/SETB/healthy_closed3.csv  ->  /content/DataBase/SETB/healthy_closed28.csv  Negative Shift\n",
            "/content/DataBase/SETB/healthy_closed5.csv  ->  /content/DataBase/SETB/healthy_closed29.csv  Negative Shift\n",
            "/content/DataBase/SETB/healthy_closed11.csv  ->  /content/DataBase/SETB/healthy_closed30.csv  Negative Shift\n",
            "/content/DataBase/SETB/healthy_closed9.csv  ->  /content/DataBase/SETB/healthy_closed31.csv  Positive Shift\n",
            "/content/DataBase/SETB/healthy_closed6.csv  ->  /content/DataBase/SETB/healthy_closed32.csv  Negative Shift\n",
            "/content/DataBase/SETB/healthy_closed4.csv  ->  /content/DataBase/SETB/healthy_closed33.csv  Positive Shift\n",
            "/content/DataBase/SETB/healthy_closed8.csv  ->  /content/DataBase/SETB/healthy_closed34.csv  Positive Shift\n",
            "/content/DataBase/SETB/healthy_closed10.csv  ->  /content/DataBase/SETB/healthy_closed35.csv  Positive Shift\n",
            "/content/DataBase/SETB/healthy_closed7.csv  ->  /content/DataBase/SETB/healthy_closed36.csv  Negative Shift\n"
          ]
        }
      ]
    },
    {
      "cell_type": "code",
      "source": [
        "add_shift_per_sample(\"/content/DataBase/SETC\",'alzeimer_open')"
      ],
      "metadata": {
        "colab": {
          "base_uri": "https://localhost:8080/"
        },
        "id": "lZMi_P_qOMkN",
        "outputId": "89363715-fa79-4451-af15-f4a5cd8d58de"
      },
      "execution_count": null,
      "outputs": [
        {
          "output_type": "stream",
          "name": "stdout",
          "text": [
            "/content/DataBase/SETC/alzeimer_open1.csv  ->  /content/DataBase/SETC/alzeimer_open25.csv  Positive Shift\n",
            "/content/DataBase/SETC/alzeimer_open8.csv  ->  /content/DataBase/SETC/alzeimer_open26.csv  Positive Shift\n",
            "/content/DataBase/SETC/alzeimer_open3.csv  ->  /content/DataBase/SETC/alzeimer_open27.csv  Negative Shift\n",
            "/content/DataBase/SETC/alzeimer_open2.csv  ->  /content/DataBase/SETC/alzeimer_open28.csv  Positive Shift\n",
            "/content/DataBase/SETC/alzeimer_open12.csv  ->  /content/DataBase/SETC/alzeimer_open29.csv  Negative Shift\n",
            "/content/DataBase/SETC/alzeimer_open11.csv  ->  /content/DataBase/SETC/alzeimer_open30.csv  Negative Shift\n",
            "/content/DataBase/SETC/alzeimer_open10.csv  ->  /content/DataBase/SETC/alzeimer_open31.csv  Positive Shift\n",
            "/content/DataBase/SETC/alzeimer_open5.csv  ->  /content/DataBase/SETC/alzeimer_open32.csv  Positive Shift\n",
            "/content/DataBase/SETC/alzeimer_open4.csv  ->  /content/DataBase/SETC/alzeimer_open33.csv  Negative Shift\n",
            "/content/DataBase/SETC/alzeimer_open7.csv  ->  /content/DataBase/SETC/alzeimer_open34.csv  Negative Shift\n",
            "/content/DataBase/SETC/alzeimer_open6.csv  ->  /content/DataBase/SETC/alzeimer_open35.csv  Positive Shift\n",
            "/content/DataBase/SETC/alzeimer_open9.csv  ->  /content/DataBase/SETC/alzeimer_open36.csv  Positive Shift\n"
          ]
        }
      ]
    },
    {
      "cell_type": "code",
      "source": [
        "add_shift_per_sample(\"/content/DataBase/SETD\",'alzeimer_closed')"
      ],
      "metadata": {
        "colab": {
          "base_uri": "https://localhost:8080/"
        },
        "id": "9vKi_iJeOoZI",
        "outputId": "a534016a-5091-4124-f91d-87d8e0e00cdc"
      },
      "execution_count": null,
      "outputs": [
        {
          "output_type": "stream",
          "name": "stdout",
          "text": [
            "/content/DataBase/SETD/alzeimer_closed11.csv  ->  /content/DataBase/SETD/alzeimer_closed25.csv  Negative Shift\n",
            "/content/DataBase/SETD/alzeimer_closed1.csv  ->  /content/DataBase/SETD/alzeimer_closed26.csv  Negative Shift\n",
            "/content/DataBase/SETD/alzeimer_closed2.csv  ->  /content/DataBase/SETD/alzeimer_closed27.csv  Positive Shift\n",
            "/content/DataBase/SETD/alzeimer_closed12.csv  ->  /content/DataBase/SETD/alzeimer_closed28.csv  Negative Shift\n",
            "/content/DataBase/SETD/alzeimer_closed3.csv  ->  /content/DataBase/SETD/alzeimer_closed29.csv  Positive Shift\n",
            "/content/DataBase/SETD/alzeimer_closed6.csv  ->  /content/DataBase/SETD/alzeimer_closed30.csv  Negative Shift\n",
            "/content/DataBase/SETD/alzeimer_closed10.csv  ->  /content/DataBase/SETD/alzeimer_closed31.csv  Positive Shift\n",
            "/content/DataBase/SETD/alzeimer_closed8.csv  ->  /content/DataBase/SETD/alzeimer_closed32.csv  Negative Shift\n",
            "/content/DataBase/SETD/alzeimer_closed7.csv  ->  /content/DataBase/SETD/alzeimer_closed33.csv  Negative Shift\n",
            "/content/DataBase/SETD/alzeimer_closed9.csv  ->  /content/DataBase/SETD/alzeimer_closed34.csv  Negative Shift\n",
            "/content/DataBase/SETD/alzeimer_closed4.csv  ->  /content/DataBase/SETD/alzeimer_closed35.csv  Negative Shift\n",
            "/content/DataBase/SETD/alzeimer_closed5.csv  ->  /content/DataBase/SETD/alzeimer_closed36.csv  Positive Shift\n"
          ]
        }
      ]
    },
    {
      "cell_type": "markdown",
      "source": [
        "2.) Rolling Mean"
      ],
      "metadata": {
        "id": "KKyv3-Kt6yh3"
      }
    },
    {
      "cell_type": "code",
      "source": [
        "def mean_roll(path,label,file_no,target_dir):\n",
        "    df = pd.read_csv(path)\n",
        "    window = random.randint(3,8)\n",
        "    df = df.rolling(window = 5,center = True).mean().fillna(0)\n",
        "    file_name = label+str(file_no)+\".csv\"\n",
        "    file_name = target_dir+\"/\"+file_name\n",
        "    print(path,\" -> \",file_name)\n",
        "    df = df.fillna(method = 'ffill')\n",
        "    df = df.fillna(0)\n",
        "    df.to_csv(file_name,index = False)\n",
        "\n",
        "def add_rolling_per_sample(path,label):\n",
        "    file_no = 49\n",
        "    all_files = glob.glob(path+\"/*\")\n",
        "    for i in all_files:\n",
        "        mean_roll(i,label,file_no,path)\n",
        "        file_no += 1"
      ],
      "metadata": {
        "id": "MSuI0brsV_3t"
      },
      "execution_count": null,
      "outputs": []
    },
    {
      "cell_type": "code",
      "source": [
        "add_rolling_per_sample(\"/content/DataBase/SETA\",'healthy_open')"
      ],
      "metadata": {
        "colab": {
          "base_uri": "https://localhost:8080/"
        },
        "id": "eQBKgjOnV_-l",
        "outputId": "bdccda91-8055-4d65-cbc5-c598000ea136"
      },
      "execution_count": null,
      "outputs": [
        {
          "output_type": "stream",
          "name": "stdout",
          "text": [
            "/content/DataBase/SETA/healthy_open25.csv  ->  /content/DataBase/SETA/healthy_open49.csv\n",
            "/content/DataBase/SETA/healthy_open32.csv  ->  /content/DataBase/SETA/healthy_open50.csv\n",
            "/content/DataBase/SETA/healthy_open28.csv  ->  /content/DataBase/SETA/healthy_open51.csv\n",
            "/content/DataBase/SETA/healthy_open12.csv  ->  /content/DataBase/SETA/healthy_open52.csv\n",
            "/content/DataBase/SETA/healthy_open6.csv  ->  /content/DataBase/SETA/healthy_open53.csv\n",
            "/content/DataBase/SETA/healthy_open4.csv  ->  /content/DataBase/SETA/healthy_open54.csv\n",
            "/content/DataBase/SETA/healthy_open34.csv  ->  /content/DataBase/SETA/healthy_open55.csv\n",
            "/content/DataBase/SETA/healthy_open36.csv  ->  /content/DataBase/SETA/healthy_open56.csv\n",
            "/content/DataBase/SETA/healthy_open31.csv  ->  /content/DataBase/SETA/healthy_open57.csv\n",
            "/content/DataBase/SETA/healthy_open7.csv  ->  /content/DataBase/SETA/healthy_open58.csv\n",
            "/content/DataBase/SETA/healthy_open11.csv  ->  /content/DataBase/SETA/healthy_open59.csv\n",
            "/content/DataBase/SETA/healthy_open8.csv  ->  /content/DataBase/SETA/healthy_open60.csv\n",
            "/content/DataBase/SETA/healthy_open27.csv  ->  /content/DataBase/SETA/healthy_open61.csv\n",
            "/content/DataBase/SETA/healthy_open2.csv  ->  /content/DataBase/SETA/healthy_open62.csv\n",
            "/content/DataBase/SETA/healthy_open10.csv  ->  /content/DataBase/SETA/healthy_open63.csv\n",
            "/content/DataBase/SETA/healthy_open30.csv  ->  /content/DataBase/SETA/healthy_open64.csv\n",
            "/content/DataBase/SETA/healthy_open9.csv  ->  /content/DataBase/SETA/healthy_open65.csv\n",
            "/content/DataBase/SETA/healthy_open1.csv  ->  /content/DataBase/SETA/healthy_open66.csv\n",
            "/content/DataBase/SETA/healthy_open5.csv  ->  /content/DataBase/SETA/healthy_open67.csv\n",
            "/content/DataBase/SETA/healthy_open29.csv  ->  /content/DataBase/SETA/healthy_open68.csv\n",
            "/content/DataBase/SETA/healthy_open3.csv  ->  /content/DataBase/SETA/healthy_open69.csv\n",
            "/content/DataBase/SETA/healthy_open35.csv  ->  /content/DataBase/SETA/healthy_open70.csv\n",
            "/content/DataBase/SETA/healthy_open33.csv  ->  /content/DataBase/SETA/healthy_open71.csv\n",
            "/content/DataBase/SETA/healthy_open26.csv  ->  /content/DataBase/SETA/healthy_open72.csv\n"
          ]
        }
      ]
    },
    {
      "cell_type": "code",
      "source": [
        "add_rolling_per_sample(\"/content/DataBase/SETB\",'healthy_closed')"
      ],
      "metadata": {
        "colab": {
          "base_uri": "https://localhost:8080/"
        },
        "id": "Vd1AzfCcZ8RI",
        "outputId": "5e916645-e050-4139-d729-8f9958eab0f5"
      },
      "execution_count": null,
      "outputs": [
        {
          "output_type": "stream",
          "name": "stdout",
          "text": [
            "/content/DataBase/SETB/healthy_closed12.csv  ->  /content/DataBase/SETB/healthy_closed49.csv\n",
            "/content/DataBase/SETB/healthy_closed32.csv  ->  /content/DataBase/SETB/healthy_closed50.csv\n",
            "/content/DataBase/SETB/healthy_closed2.csv  ->  /content/DataBase/SETB/healthy_closed51.csv\n",
            "/content/DataBase/SETB/healthy_closed1.csv  ->  /content/DataBase/SETB/healthy_closed52.csv\n",
            "/content/DataBase/SETB/healthy_closed35.csv  ->  /content/DataBase/SETB/healthy_closed53.csv\n",
            "/content/DataBase/SETB/healthy_closed26.csv  ->  /content/DataBase/SETB/healthy_closed54.csv\n",
            "/content/DataBase/SETB/healthy_closed3.csv  ->  /content/DataBase/SETB/healthy_closed55.csv\n",
            "/content/DataBase/SETB/healthy_closed5.csv  ->  /content/DataBase/SETB/healthy_closed56.csv\n",
            "/content/DataBase/SETB/healthy_closed11.csv  ->  /content/DataBase/SETB/healthy_closed57.csv\n",
            "/content/DataBase/SETB/healthy_closed9.csv  ->  /content/DataBase/SETB/healthy_closed58.csv\n",
            "/content/DataBase/SETB/healthy_closed6.csv  ->  /content/DataBase/SETB/healthy_closed59.csv\n",
            "/content/DataBase/SETB/healthy_closed25.csv  ->  /content/DataBase/SETB/healthy_closed60.csv\n",
            "/content/DataBase/SETB/healthy_closed4.csv  ->  /content/DataBase/SETB/healthy_closed61.csv\n",
            "/content/DataBase/SETB/healthy_closed36.csv  ->  /content/DataBase/SETB/healthy_closed62.csv\n",
            "/content/DataBase/SETB/healthy_closed8.csv  ->  /content/DataBase/SETB/healthy_closed63.csv\n",
            "/content/DataBase/SETB/healthy_closed33.csv  ->  /content/DataBase/SETB/healthy_closed64.csv\n",
            "/content/DataBase/SETB/healthy_closed31.csv  ->  /content/DataBase/SETB/healthy_closed65.csv\n",
            "/content/DataBase/SETB/healthy_closed34.csv  ->  /content/DataBase/SETB/healthy_closed66.csv\n",
            "/content/DataBase/SETB/healthy_closed10.csv  ->  /content/DataBase/SETB/healthy_closed67.csv\n",
            "/content/DataBase/SETB/healthy_closed29.csv  ->  /content/DataBase/SETB/healthy_closed68.csv\n",
            "/content/DataBase/SETB/healthy_closed7.csv  ->  /content/DataBase/SETB/healthy_closed69.csv\n",
            "/content/DataBase/SETB/healthy_closed27.csv  ->  /content/DataBase/SETB/healthy_closed70.csv\n",
            "/content/DataBase/SETB/healthy_closed28.csv  ->  /content/DataBase/SETB/healthy_closed71.csv\n",
            "/content/DataBase/SETB/healthy_closed30.csv  ->  /content/DataBase/SETB/healthy_closed72.csv\n"
          ]
        }
      ]
    },
    {
      "cell_type": "code",
      "source": [
        "add_rolling_per_sample(\"/content/DataBase/SETC\",'alzeimer_open')"
      ],
      "metadata": {
        "colab": {
          "base_uri": "https://localhost:8080/"
        },
        "id": "7cJBjy4PaA6s",
        "outputId": "c8c91e64-e57d-4a47-e473-1b5acdf6201d"
      },
      "execution_count": null,
      "outputs": [
        {
          "output_type": "stream",
          "name": "stdout",
          "text": [
            "/content/DataBase/SETC/alzeimer_open27.csv  ->  /content/DataBase/SETC/alzeimer_open49.csv\n",
            "/content/DataBase/SETC/alzeimer_open1.csv  ->  /content/DataBase/SETC/alzeimer_open50.csv\n",
            "/content/DataBase/SETC/alzeimer_open8.csv  ->  /content/DataBase/SETC/alzeimer_open51.csv\n",
            "/content/DataBase/SETC/alzeimer_open29.csv  ->  /content/DataBase/SETC/alzeimer_open52.csv\n",
            "/content/DataBase/SETC/alzeimer_open3.csv  ->  /content/DataBase/SETC/alzeimer_open53.csv\n",
            "/content/DataBase/SETC/alzeimer_open30.csv  ->  /content/DataBase/SETC/alzeimer_open54.csv\n",
            "/content/DataBase/SETC/alzeimer_open26.csv  ->  /content/DataBase/SETC/alzeimer_open55.csv\n",
            "/content/DataBase/SETC/alzeimer_open35.csv  ->  /content/DataBase/SETC/alzeimer_open56.csv\n",
            "/content/DataBase/SETC/alzeimer_open34.csv  ->  /content/DataBase/SETC/alzeimer_open57.csv\n",
            "/content/DataBase/SETC/alzeimer_open2.csv  ->  /content/DataBase/SETC/alzeimer_open58.csv\n",
            "/content/DataBase/SETC/alzeimer_open12.csv  ->  /content/DataBase/SETC/alzeimer_open59.csv\n",
            "/content/DataBase/SETC/alzeimer_open11.csv  ->  /content/DataBase/SETC/alzeimer_open60.csv\n",
            "/content/DataBase/SETC/alzeimer_open32.csv  ->  /content/DataBase/SETC/alzeimer_open61.csv\n",
            "/content/DataBase/SETC/alzeimer_open10.csv  ->  /content/DataBase/SETC/alzeimer_open62.csv\n",
            "/content/DataBase/SETC/alzeimer_open28.csv  ->  /content/DataBase/SETC/alzeimer_open63.csv\n",
            "/content/DataBase/SETC/alzeimer_open31.csv  ->  /content/DataBase/SETC/alzeimer_open64.csv\n",
            "/content/DataBase/SETC/alzeimer_open33.csv  ->  /content/DataBase/SETC/alzeimer_open65.csv\n",
            "/content/DataBase/SETC/alzeimer_open25.csv  ->  /content/DataBase/SETC/alzeimer_open66.csv\n",
            "/content/DataBase/SETC/alzeimer_open5.csv  ->  /content/DataBase/SETC/alzeimer_open67.csv\n",
            "/content/DataBase/SETC/alzeimer_open36.csv  ->  /content/DataBase/SETC/alzeimer_open68.csv\n",
            "/content/DataBase/SETC/alzeimer_open4.csv  ->  /content/DataBase/SETC/alzeimer_open69.csv\n",
            "/content/DataBase/SETC/alzeimer_open7.csv  ->  /content/DataBase/SETC/alzeimer_open70.csv\n",
            "/content/DataBase/SETC/alzeimer_open6.csv  ->  /content/DataBase/SETC/alzeimer_open71.csv\n",
            "/content/DataBase/SETC/alzeimer_open9.csv  ->  /content/DataBase/SETC/alzeimer_open72.csv\n"
          ]
        }
      ]
    },
    {
      "cell_type": "code",
      "source": [
        "add_rolling_per_sample(\"/content/DataBase/SETD\",'alzeimer_closed')"
      ],
      "metadata": {
        "colab": {
          "base_uri": "https://localhost:8080/"
        },
        "id": "yiFfvmeYaP1D",
        "outputId": "3ae1b468-4146-434e-a052-8d86ebb83de8"
      },
      "execution_count": null,
      "outputs": [
        {
          "output_type": "stream",
          "name": "stdout",
          "text": [
            "/content/DataBase/SETD/alzeimer_closed27.csv  ->  /content/DataBase/SETD/alzeimer_closed49.csv\n",
            "/content/DataBase/SETD/alzeimer_closed35.csv  ->  /content/DataBase/SETD/alzeimer_closed50.csv\n",
            "/content/DataBase/SETD/alzeimer_closed11.csv  ->  /content/DataBase/SETD/alzeimer_closed51.csv\n",
            "/content/DataBase/SETD/alzeimer_closed36.csv  ->  /content/DataBase/SETD/alzeimer_closed52.csv\n",
            "/content/DataBase/SETD/alzeimer_closed30.csv  ->  /content/DataBase/SETD/alzeimer_closed53.csv\n",
            "/content/DataBase/SETD/alzeimer_closed1.csv  ->  /content/DataBase/SETD/alzeimer_closed54.csv\n",
            "/content/DataBase/SETD/alzeimer_closed2.csv  ->  /content/DataBase/SETD/alzeimer_closed55.csv\n",
            "/content/DataBase/SETD/alzeimer_closed12.csv  ->  /content/DataBase/SETD/alzeimer_closed56.csv\n",
            "/content/DataBase/SETD/alzeimer_closed29.csv  ->  /content/DataBase/SETD/alzeimer_closed57.csv\n",
            "/content/DataBase/SETD/alzeimer_closed3.csv  ->  /content/DataBase/SETD/alzeimer_closed58.csv\n",
            "/content/DataBase/SETD/alzeimer_closed25.csv  ->  /content/DataBase/SETD/alzeimer_closed59.csv\n",
            "/content/DataBase/SETD/alzeimer_closed28.csv  ->  /content/DataBase/SETD/alzeimer_closed60.csv\n",
            "/content/DataBase/SETD/alzeimer_closed6.csv  ->  /content/DataBase/SETD/alzeimer_closed61.csv\n",
            "/content/DataBase/SETD/alzeimer_closed10.csv  ->  /content/DataBase/SETD/alzeimer_closed62.csv\n",
            "/content/DataBase/SETD/alzeimer_closed8.csv  ->  /content/DataBase/SETD/alzeimer_closed63.csv\n",
            "/content/DataBase/SETD/alzeimer_closed34.csv  ->  /content/DataBase/SETD/alzeimer_closed64.csv\n",
            "/content/DataBase/SETD/alzeimer_closed31.csv  ->  /content/DataBase/SETD/alzeimer_closed65.csv\n",
            "/content/DataBase/SETD/alzeimer_closed7.csv  ->  /content/DataBase/SETD/alzeimer_closed66.csv\n",
            "/content/DataBase/SETD/alzeimer_closed26.csv  ->  /content/DataBase/SETD/alzeimer_closed67.csv\n",
            "/content/DataBase/SETD/alzeimer_closed33.csv  ->  /content/DataBase/SETD/alzeimer_closed68.csv\n",
            "/content/DataBase/SETD/alzeimer_closed9.csv  ->  /content/DataBase/SETD/alzeimer_closed69.csv\n",
            "/content/DataBase/SETD/alzeimer_closed4.csv  ->  /content/DataBase/SETD/alzeimer_closed70.csv\n",
            "/content/DataBase/SETD/alzeimer_closed32.csv  ->  /content/DataBase/SETD/alzeimer_closed71.csv\n",
            "/content/DataBase/SETD/alzeimer_closed5.csv  ->  /content/DataBase/SETD/alzeimer_closed72.csv\n"
          ]
        }
      ]
    },
    {
      "cell_type": "code",
      "source": [
        "shutil.make_archive('Augmented', 'zip','/content/DataBase')"
      ],
      "metadata": {
        "colab": {
          "base_uri": "https://localhost:8080/",
          "height": 36
        },
        "id": "75QzH98waX5j",
        "outputId": "a5634b4b-3abd-405f-b225-27f3a0f69d67"
      },
      "execution_count": null,
      "outputs": [
        {
          "output_type": "execute_result",
          "data": {
            "text/plain": [
              "'/content/Augmented.zip'"
            ],
            "application/vnd.google.colaboratory.intrinsic+json": {
              "type": "string"
            }
          },
          "metadata": {},
          "execution_count": 32
        }
      ]
    },
    {
      "cell_type": "markdown",
      "source": [
        "**Splitting data to train and test**"
      ],
      "metadata": {
        "id": "b9zIWF-v63Ix"
      }
    },
    {
      "cell_type": "code",
      "source": [
        "def return_splits():\n",
        "    augmented_files = glob.glob(\"/content/DataBase/*/*\")\n",
        "    train_files = list(set(augmented_files) - set(files))\n",
        "    test_files = files\n",
        "    for i in range(0,len(test_files),12):\n",
        "        train_files += test_files[i:i+4]\n",
        "    test_files = list(set(test_files)-set(train_files))    \n",
        "    return train_files,test_files \n",
        "train,test = return_splits()     "
      ],
      "metadata": {
        "id": "Qo6wV_9d47hP"
      },
      "execution_count": null,
      "outputs": []
    },
    {
      "cell_type": "code",
      "source": [
        "len(train),len(test)"
      ],
      "metadata": {
        "colab": {
          "base_uri": "https://localhost:8080/"
        },
        "id": "wOmP2thbU75u",
        "outputId": "ebe6ac46-cd1d-471c-86bb-a8fc4499025b"
      },
      "execution_count": null,
      "outputs": [
        {
          "output_type": "execute_result",
          "data": {
            "text/plain": [
              "(160, 32)"
            ]
          },
          "metadata": {},
          "execution_count": 34
        }
      ]
    },
    {
      "cell_type": "markdown",
      "source": [
        "# Compressing Time Series Data \n",
        "PCA can be used to compress time series data of many time steps to a vector of length musch lesser by identifying the most important patterns or features in the data and representing it using a smaller set of variables or dimensions, called principal components.\n",
        "Suppose we have a time series dataset with 10,000 time steps and each time step has multiple variables. We can apply PCA to this data to identify the most important patterns or features across all the variables. PCA will generate a set of principal components, with each component representing a linear combination of the original variables that captures the most variance in the data.\n"
      ],
      "metadata": {
        "id": "1s7o9RwJ69zb"
      }
    },
    {
      "cell_type": "code",
      "source": [
        "def decompose(wave_data):    \n",
        "    time_series_data = wave_data.T\n",
        "    kpca = KernelPCA(n_components=5, kernel='rbf', gamma=0.1)\n",
        "    compressed_data = kpca.fit_transform(time_series_data).mean(axis = 1)\n",
        "    return compressed_data.tolist()"
      ],
      "metadata": {
        "id": "JqS5M_N9GVqu"
      },
      "execution_count": null,
      "outputs": []
    },
    {
      "cell_type": "code",
      "source": [
        "def handle_nan(df_f):\n",
        "    df = pd.read_csv(df_f)\n",
        "    count = 0\n",
        "    if df.isnull().sum().sum() != 0:\n",
        "        print(df_f,end = \" \")\n",
        "        while df.isnull().sum().sum() != 0:\n",
        "            count = count + 1\n",
        "            df = df.fillna(method = 'ffill')\n",
        "            df = df.fillna(method = 'bfill')\n",
        "        print(\"   \" , count, \"null values found and taken care of\",\"\\n\")    \n",
        "    return df"
      ],
      "metadata": {
        "id": "OYTvMrpbZbpT"
      },
      "execution_count": null,
      "outputs": []
    },
    {
      "cell_type": "code",
      "source": [
        "def create_ds(all_files):\n",
        "    dataset = []\n",
        "    for file in all_files:\n",
        "        df = handle_nan(file)\n",
        "        scaler = StandardScaler()\n",
        "        df = scaler.fit_transform(df)\n",
        "        sample = decompose(df)\n",
        "\n",
        "        if \"closed\" in file:\n",
        "            sample.append(\"closed\")\n",
        "        elif \"open\" in file:\n",
        "            sample.append(\"open\")\n",
        "\n",
        "        if \"healthy\" in file:\n",
        "            sample.append(\"healthy\")\n",
        "        elif \"alzeimer\" in file:\n",
        "            sample.append(\"alzeimer\")\n",
        "\n",
        "        dataset.append(sample)\n",
        "    return pd.DataFrame(dataset)        "
      ],
      "metadata": {
        "id": "Ve4XwCi_V2qg"
      },
      "execution_count": null,
      "outputs": []
    },
    {
      "cell_type": "code",
      "source": [
        "train_df = create_ds(train)"
      ],
      "metadata": {
        "colab": {
          "base_uri": "https://localhost:8080/"
        },
        "id": "lA9UXOyCXGiJ",
        "outputId": "7af370f4-20a9-4a16-e939-e0f20582a090"
      },
      "execution_count": null,
      "outputs": [
        {
          "output_type": "stream",
          "name": "stdout",
          "text": [
            "/content/DataBase/SETC/alzeimer_open8.csv     1 null values found and taken care of \n",
            "\n"
          ]
        }
      ]
    },
    {
      "cell_type": "code",
      "source": [
        "train_df.to_csv(\"train.csv\",index= False)"
      ],
      "metadata": {
        "id": "3MzgEBsmets1"
      },
      "execution_count": null,
      "outputs": []
    },
    {
      "cell_type": "code",
      "source": [
        "test_df = create_ds(test)"
      ],
      "metadata": {
        "colab": {
          "base_uri": "https://localhost:8080/"
        },
        "id": "8JnBOM3XjqOx",
        "outputId": "837fb687-7925-49e1-c16b-c36162a34f01"
      },
      "execution_count": null,
      "outputs": [
        {
          "output_type": "stream",
          "name": "stdout",
          "text": [
            "/content/DataBase/SETC/alzeimer_open5.csv     1 null values found and taken care of \n",
            "\n",
            "/content/DataBase/SETC/alzeimer_open6.csv     1 null values found and taken care of \n",
            "\n",
            "/content/DataBase/SETC/alzeimer_open10.csv     1 null values found and taken care of \n",
            "\n"
          ]
        }
      ]
    },
    {
      "cell_type": "code",
      "source": [
        "test_df.to_csv(\"test.csv\",index= False)"
      ],
      "metadata": {
        "id": "Ys9-diyBktaP"
      },
      "execution_count": null,
      "outputs": []
    }
  ]
}